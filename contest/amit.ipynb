import matplotlib.pyplot as mp
import numpy as np
x_point = np.array([0,6])
y_point= np.array([0,250])
mp.plot(x_point, y_point)

mp.show()

x = np.array([1,4,7,9])
mp.plot(x,marker = '<',linestyle='dotted')
mp.show()

